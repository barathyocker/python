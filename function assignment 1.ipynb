{
 "cells": [
  {
   "cell_type": "code",
   "execution_count": 1,
   "id": "31216c2a",
   "metadata": {},
   "outputs": [],
   "source": [
    "def subfields ():\n",
    "    print(\"Sub-fields in AI are:\\nMachine Learning\\nNeural Networks\\nVision\\nRobotics\\nSpeech Processing\\nNatural Language Processing\")\n"
   ]
  },
  {
   "cell_type": "code",
   "execution_count": 2,
   "id": "fbac89ce",
   "metadata": {},
   "outputs": [
    {
     "name": "stdout",
     "output_type": "stream",
     "text": [
      "Sub-fields in AI are:\n",
      "Machine Learning\n",
      "Neural Networks\n",
      "Vision\n",
      "Robotics\n",
      "Speech Processing\n",
      "Natural Language Processing\n"
     ]
    }
   ],
   "source": [
    "subfields()"
   ]
  },
  {
   "cell_type": "code",
   "execution_count": 3,
   "id": "d3302942",
   "metadata": {},
   "outputs": [],
   "source": [
    "def oddeven():\n",
    "    num = int(input(\"Enter a number:\"))\n",
    "    if num % 2 ==0 :\n",
    "        print(num,\"is even number\")\n",
    "    else:\n",
    "        print(num,\"is odd number\")"
   ]
  },
  {
   "cell_type": "code",
   "execution_count": 4,
   "id": "457193bf",
   "metadata": {},
   "outputs": [
    {
     "name": "stdout",
     "output_type": "stream",
     "text": [
      "Enter a number:37\n",
      "37 is odd number\n"
     ]
    }
   ],
   "source": [
    "oddeven()"
   ]
  },
  {
   "cell_type": "code",
   "execution_count": 5,
   "id": "674447b9",
   "metadata": {},
   "outputs": [],
   "source": [
    "def eligible ():\n",
    "    s = input(\"gender:\")\n",
    "    gender = s.upper()\n",
    "    age = int(input(\"your age :\"))\n",
    "    if age >= 27 and gender == \"MALE\":\n",
    "        print(\"ELIGIBLE\")\n",
    "    elif age >= 24 and gender ==\"FEMALE\":\n",
    "        print(\"ELIGIBLE\")\n",
    "    else:\n",
    "        print(\"NOT EILGIBLE\")"
   ]
  },
  {
   "cell_type": "code",
   "execution_count": 6,
   "id": "bbee4c02",
   "metadata": {},
   "outputs": [
    {
     "name": "stdout",
     "output_type": "stream",
     "text": [
      "gender:female\n",
      "your age :28\n",
      "ELIGIBLE\n"
     ]
    }
   ],
   "source": [
    "eligible()"
   ]
  },
  {
   "cell_type": "code",
   "execution_count": 7,
   "id": "5ce5dc0a",
   "metadata": {},
   "outputs": [],
   "source": [
    "def percentage ():\n",
    "    sub_1 = int(input(\"subject1=\"))\n",
    "    sub_2 = int(input(\"subject2=\"))\n",
    "    sub_3 = int(input(\"subject3=\"))\n",
    "    sub_4 = int(input(\"subject4=\"))\n",
    "    sub_5 = int(input(\"subject5=\"))\n",
    "    total = sub_1+sub_2+sub_3+sub_4+sub_5\n",
    "\n",
    "    percent = (total/500)*100\n",
    "    print(\"Total:\",total)\n",
    "    print(\"percentage=\",percent)\n",
    "\n"
   ]
  },
  {
   "cell_type": "code",
   "execution_count": 8,
   "id": "ee45b04f",
   "metadata": {},
   "outputs": [
    {
     "name": "stdout",
     "output_type": "stream",
     "text": [
      "subject1=58\n",
      "subject2=68\n",
      "subject3=95\n",
      "subject4=48\n",
      "subject5=32\n",
      "Total: 301\n",
      "percentage= 60.199999999999996\n"
     ]
    }
   ],
   "source": [
    "\n",
    "percentage()"
   ]
  },
  {
   "cell_type": "code",
   "execution_count": 17,
   "id": "9dcbf60d",
   "metadata": {},
   "outputs": [],
   "source": [
    "def triangle():\n",
    "    height = int(input(\"height:\"))\n",
    "    breadth = int(input(\"breadth:\"))\n",
    "    area_formula = ((height*breadth)/2)\n",
    "    area_of_triangle = area_formula\n",
    "    print(\"area formula = ((height*breadth)/2)\")\n",
    "    print(\"area of triangle:\",area_formula)\n",
    "    height_1 = int(input(\"height1:\"))\n",
    "    height_2 = int(input(\"height2:\"))\n",
    "    breadth_1 = int(input(\"breadth1:\"))\n",
    "    perimeter = height_1+height_2+breadth_1\n",
    "    print(\"perimeter = height_1+height_2+breadth_1\")\n",
    "    print(\"perimeter of triangle:\",perimeter)"
   ]
  },
  {
   "cell_type": "code",
   "execution_count": 18,
   "id": "b7055c3b",
   "metadata": {},
   "outputs": [
    {
     "name": "stdout",
     "output_type": "stream",
     "text": [
      "height:3\n",
      "breadth:4\n",
      "area formula = ((height*breadth)/2)\n",
      "area of triangle: 6.0\n",
      "height1:3\n",
      "height2:4\n",
      "breadth1:45\n",
      "perimeter = height_1+height_2+breadth_1\n",
      "perimeter of triangle: 52\n"
     ]
    }
   ],
   "source": [
    "triangle()"
   ]
  },
  {
   "cell_type": "code",
   "execution_count": null,
   "id": "e5b3fe85",
   "metadata": {},
   "outputs": [],
   "source": []
  }
 ],
 "metadata": {
  "kernelspec": {
   "display_name": "Python 3 (ipykernel)",
   "language": "python",
   "name": "python3"
  },
  "language_info": {
   "codemirror_mode": {
    "name": "ipython",
    "version": 3
   },
   "file_extension": ".py",
   "mimetype": "text/x-python",
   "name": "python",
   "nbconvert_exporter": "python",
   "pygments_lexer": "ipython3",
   "version": "3.10.9"
  }
 },
 "nbformat": 4,
 "nbformat_minor": 5
}
