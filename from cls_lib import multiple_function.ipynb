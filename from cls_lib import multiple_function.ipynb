{
 "cells": [
  {
   "cell_type": "code",
   "execution_count": 3,
   "id": "1efa5be5",
   "metadata": {},
   "outputs": [
    {
     "ename": "ImportError",
     "evalue": "cannot import name 'multiple_function' from 'class_library' (G:\\python\\class_library.py)",
     "output_type": "error",
     "traceback": [
      "\u001b[1;31m---------------------------------------------------------------------------\u001b[0m",
      "\u001b[1;31mImportError\u001b[0m                               Traceback (most recent call last)",
      "Cell \u001b[1;32mIn[3], line 1\u001b[0m\n\u001b[1;32m----> 1\u001b[0m \u001b[38;5;28;01mfrom\u001b[39;00m \u001b[38;5;21;01mclass_library\u001b[39;00m \u001b[38;5;28;01mimport\u001b[39;00m  multiple_function\n",
      "\u001b[1;31mImportError\u001b[0m: cannot import name 'multiple_function' from 'class_library' (G:\\python\\class_library.py)"
     ]
    }
   ],
   "source": [
    "from class_library import  multiple_function"
   ]
  },
  {
   "cell_type": "code",
   "execution_count": 5,
   "id": "3a3bf730",
   "metadata": {},
   "outputs": [],
   "source": [
    "from cls_lib import multiple_function"
   ]
  },
  {
   "cell_type": "code",
   "execution_count": 6,
   "id": "ce4e491b",
   "metadata": {},
   "outputs": [
    {
     "name": "stdout",
     "output_type": "stream",
     "text": [
      "Enter the BMI Index: 23\n",
      "healthy\n"
     ]
    }
   ],
   "source": [
    "multiple_function.bmi()"
   ]
  },
  {
   "cell_type": "code",
   "execution_count": 7,
   "id": "35506f38",
   "metadata": {},
   "outputs": [
    {
     "name": "stdout",
     "output_type": "stream",
     "text": [
      "Sub-fields in AI are:\n",
      "Machine Learning\n",
      "Neural Networks\n",
      "Vision\n",
      "Robotic\n",
      "speech Processing\n",
      "Natural Language Processing\n"
     ]
    }
   ],
   "source": [
    "multiple_function.sub()"
   ]
  },
  {
   "cell_type": "code",
   "execution_count": 8,
   "id": "c79deb9e",
   "metadata": {},
   "outputs": [
    {
     "name": "stdout",
     "output_type": "stream",
     "text": [
      "gender:female\n",
      "your age :26\n",
      "ELIGIBLE\n"
     ]
    }
   ],
   "source": [
    "multiple_function.eligible()"
   ]
  },
  {
   "cell_type": "code",
   "execution_count": 10,
   "id": "42e662dd",
   "metadata": {},
   "outputs": [
    {
     "name": "stdout",
     "output_type": "stream",
     "text": [
      "height:5\n",
      "breadth:6\n",
      "area formula = ((height*breadth)/2)\n",
      "area of triangle: 15.0\n",
      "height1:6\n",
      "height2:5\n",
      "breadth1:5\n",
      "perimeter = height_1+height_2+breadth_1\n",
      "perimeter of triangle: 16\n"
     ]
    }
   ],
   "source": [
    "multiple_function.triangle()"
   ]
  },
  {
   "cell_type": "code",
   "execution_count": null,
   "id": "566360a4",
   "metadata": {},
   "outputs": [],
   "source": []
  }
 ],
 "metadata": {
  "kernelspec": {
   "display_name": "Python 3 (ipykernel)",
   "language": "python",
   "name": "python3"
  },
  "language_info": {
   "codemirror_mode": {
    "name": "ipython",
    "version": 3
   },
   "file_extension": ".py",
   "mimetype": "text/x-python",
   "name": "python",
   "nbconvert_exporter": "python",
   "pygments_lexer": "ipython3",
   "version": "3.10.9"
  }
 },
 "nbformat": 4,
 "nbformat_minor": 5
}
