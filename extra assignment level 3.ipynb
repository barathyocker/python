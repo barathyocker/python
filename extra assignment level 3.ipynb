{
 "cells": [
  {
   "cell_type": "code",
   "execution_count": 1,
   "id": "406a021b",
   "metadata": {},
   "outputs": [
    {
     "name": "stdout",
     "output_type": "stream",
     "text": [
      "value= 10 \n",
      "CORRECT\n"
     ]
    }
   ],
   "source": [
    "i = 10\n",
    "if i == 10 :\n",
    "    print(\"value=\",i,\"\\nCORRECT\")"
   ]
  },
  {
   "cell_type": "code",
   "execution_count": 6,
   "id": "e4ff9b52",
   "metadata": {},
   "outputs": [
    {
     "name": "stdout",
     "output_type": "stream",
     "text": [
      "Enter the password: hope@123\n",
      "your password is correct \n"
     ]
    }
   ],
   "source": [
    "password =input(\"Enter the password: \")\n",
    "if password == (\"hope@123\") :\n",
    "    print(\"your password is correct \")\n",
    "else:\n",
    "    print (\"incorrect password\")"
   ]
  },
  {
   "cell_type": "code",
   "execution_count": 11,
   "id": "ca6394f8",
   "metadata": {},
   "outputs": [
    {
     "name": "stdout",
     "output_type": "stream",
     "text": [
      "Age: 59\n",
      "citizen\n"
     ]
    }
   ],
   "source": [
    "age = int(input(\"Age: \"))\n",
    "\n",
    "if age < 18 :\n",
    "    print(\"childern\")\n",
    "elif age <= 30 :\n",
    "    print(\"adult\")\n",
    "elif age <60 :\n",
    "    print(\"citizen\")\n",
    "elif age >= 60:\n",
    "    print(\"senior citizen\")"
   ]
  },
  {
   "cell_type": "code",
   "execution_count": 21,
   "id": "b23dba2f",
   "metadata": {},
   "outputs": [
    {
     "name": "stdout",
     "output_type": "stream",
     "text": [
      "Enter any number:99\n",
      "number is negative\n"
     ]
    }
   ],
   "source": [
    "number = int(input(\"Enter any number:\"))\n",
    "if number % 2 ==0:\n",
    "    print(\"number is postive\")\n",
    "else:\n",
    "    print(\"number is negative\")"
   ]
  },
  {
   "cell_type": "code",
   "execution_count": 25,
   "id": "2a735c9d",
   "metadata": {},
   "outputs": [
    {
     "name": "stdout",
     "output_type": "stream",
     "text": [
      "Enter any number:99\n",
      "number is not divisible by 5\n"
     ]
    }
   ],
   "source": [
    "number = int(input(\"Enter any number:\"))\n",
    "if number % 5 ==0:\n",
    "    print(\"number is divisible by 5\")\n",
    "else :\n",
    "    print (\"number is not divisible by 5\")"
   ]
  },
  {
   "cell_type": "code",
   "execution_count": null,
   "id": "ff7ba23f",
   "metadata": {},
   "outputs": [],
   "source": []
  },
  {
   "cell_type": "code",
   "execution_count": null,
   "id": "5859e6a7",
   "metadata": {},
   "outputs": [],
   "source": []
  }
 ],
 "metadata": {
  "kernelspec": {
   "display_name": "Python 3 (ipykernel)",
   "language": "python",
   "name": "python3"
  },
  "language_info": {
   "codemirror_mode": {
    "name": "ipython",
    "version": 3
   },
   "file_extension": ".py",
   "mimetype": "text/x-python",
   "name": "python",
   "nbconvert_exporter": "python",
   "pygments_lexer": "ipython3",
   "version": "3.10.9"
  }
 },
 "nbformat": 4,
 "nbformat_minor": 5
}
