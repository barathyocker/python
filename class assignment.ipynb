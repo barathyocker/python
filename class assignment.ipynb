{
 "cells": [
  {
   "cell_type": "code",
   "execution_count": 6,
   "id": "887a2f11",
   "metadata": {},
   "outputs": [],
   "source": [
    "class subfields_AI():\n",
    "    def sub ():\n",
    "        subfields_1 = (\"Sub-fields in AI are:\",\"Machine Learning\",\"Neural Networks\",\"Vision\",\"Robotic\",\"speech Processing\",\n",
    "                 \"Natural Language Processing\")\n",
    "\n",
    "        for temp_1 in subfields_1:\n",
    "            print(temp_1)"
   ]
  },
  {
   "cell_type": "code",
   "execution_count": 9,
   "id": "7d62ccd0",
   "metadata": {},
   "outputs": [
    {
     "name": "stdout",
     "output_type": "stream",
     "text": [
      "Sub-fields in AI are:\n",
      "Machine Learning\n",
      "Neural Networks\n",
      "Vision\n",
      "Robotic\n",
      "speech Processing\n",
      "Natural Language Processing\n"
     ]
    }
   ],
   "source": [
    "subfields_AI.sub()"
   ]
  },
  {
   "cell_type": "code",
   "execution_count": 10,
   "id": "81ffe43d",
   "metadata": {},
   "outputs": [],
   "source": [
    " class ODDeven():\n",
    "    def oddeven():\n",
    "        num = int(input(\"Enter a number:\"))\n",
    "        if num % 2 ==0 :\n",
    "            print(num,\"is even number\")\n",
    "        else:\n",
    "            print(num,\"is odd number\")"
   ]
  },
  {
   "cell_type": "code",
   "execution_count": 11,
   "id": "fc1fdfc4",
   "metadata": {},
   "outputs": [
    {
     "name": "stdout",
     "output_type": "stream",
     "text": [
      "Enter a number:7865\n",
      "7865 is odd number\n"
     ]
    }
   ],
   "source": [
    "ODDeven.oddeven()"
   ]
  },
  {
   "cell_type": "code",
   "execution_count": 12,
   "id": "9c9b4398",
   "metadata": {},
   "outputs": [],
   "source": [
    "class marriage_eligibility():\n",
    "    def eligible ():\n",
    "        s = input(\"gender:\")\n",
    "        gender = s.upper()\n",
    "        age = int(input(\"your age :\"))\n",
    "        if age >= 27 and gender == \"MALE\":\n",
    "            print(\"ELIGIBLE\")\n",
    "        elif age >= 24 and gender ==\"FEMALE\":\n",
    "            print(\"ELIGIBLE\")\n",
    "        else:\n",
    "            print(\"NOT EILGIBLE\")"
   ]
  },
  {
   "cell_type": "code",
   "execution_count": 13,
   "id": "74beae38",
   "metadata": {},
   "outputs": [
    {
     "name": "stdout",
     "output_type": "stream",
     "text": [
      "gender:male\n",
      "your age :33\n",
      "ELIGIBLE\n"
     ]
    }
   ],
   "source": [
    "marriage_eligibility.eligible()"
   ]
  },
  {
   "cell_type": "code",
   "execution_count": 14,
   "id": "8640ed77",
   "metadata": {},
   "outputs": [],
   "source": [
    " class find_percentage(): \n",
    "    def percentage ():\n",
    "        sub_1 = int(input(\"subject1=\"))\n",
    "        sub_2 = int(input(\"subject2=\"))\n",
    "        sub_3 = int(input(\"subject3=\"))\n",
    "        sub_4 = int(input(\"subject4=\"))\n",
    "        sub_5 = int(input(\"subject5=\"))\n",
    "        total = sub_1+sub_2+sub_3+sub_4+sub_5\n",
    "\n",
    "        percent = (total/500)*100\n",
    "        print(\"Total:\",total)\n",
    "        print(\"percentage=\",percent)\n",
    "\n"
   ]
  },
  {
   "cell_type": "code",
   "execution_count": 15,
   "id": "675ceac0",
   "metadata": {},
   "outputs": [
    {
     "name": "stdout",
     "output_type": "stream",
     "text": [
      "subject1=86\n",
      "subject2=68\n",
      "subject3=95\n",
      "subject4=74\n",
      "subject5=89\n",
      "Total: 412\n",
      "percentage= 82.39999999999999\n"
     ]
    }
   ],
   "source": [
    "find_percentage.percentage()"
   ]
  },
  {
   "cell_type": "code",
   "execution_count": 16,
   "id": "a9b05fff",
   "metadata": {},
   "outputs": [],
   "source": [
    " class tri_angle():\n",
    "    def triangle():\n",
    "        height = int(input(\"height:\"))\n",
    "        breadth = int(input(\"breadth:\"))\n",
    "        area_formula = ((height*breadth)/2)\n",
    "        area_of_triangle = area_formula\n",
    "        print(\"area formula = ((height*breadth)/2)\")\n",
    "        print(\"area of triangle:\",area_formula)\n",
    "        height_1 = int(input(\"height1:\"))\n",
    "        height_2 = int(input(\"height2:\"))\n",
    "        breadth_1 = int(input(\"breadth1:\"))\n",
    "        perimeter = height_1+height_2+breadth_1\n",
    "        print(\"perimeter = height_1+height_2+breadth_1\")\n",
    "        print(\"perimeter of triangle:\",perimeter)"
   ]
  },
  {
   "cell_type": "code",
   "execution_count": 17,
   "id": "3f637a8e",
   "metadata": {},
   "outputs": [
    {
     "name": "stdout",
     "output_type": "stream",
     "text": [
      "height:2\n",
      "breadth:3\n",
      "area formula = ((height*breadth)/2)\n",
      "area of triangle: 3.0\n",
      "height1:1\n",
      "height2:5\n",
      "breadth1:6\n",
      "perimeter = height_1+height_2+breadth_1\n",
      "perimeter of triangle: 12\n"
     ]
    }
   ],
   "source": [
    "tri_angle.triangle()"
   ]
  },
  {
   "cell_type": "code",
   "execution_count": null,
   "id": "10631d6e",
   "metadata": {},
   "outputs": [],
   "source": []
  }
 ],
 "metadata": {
  "kernelspec": {
   "display_name": "Python 3 (ipykernel)",
   "language": "python",
   "name": "python3"
  },
  "language_info": {
   "codemirror_mode": {
    "name": "ipython",
    "version": 3
   },
   "file_extension": ".py",
   "mimetype": "text/x-python",
   "name": "python",
   "nbconvert_exporter": "python",
   "pygments_lexer": "ipython3",
   "version": "3.10.9"
  }
 },
 "nbformat": 4,
 "nbformat_minor": 5
}
