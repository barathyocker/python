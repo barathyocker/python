{
 "cells": [
  {
   "cell_type": "code",
   "execution_count": 2,
   "id": "8274e1cc",
   "metadata": {},
   "outputs": [
    {
     "name": "stdout",
     "output_type": "stream",
     "text": [
      "Welcome to Assignment-1\n"
     ]
    }
   ],
   "source": [
    "print('Welcome to Assignment-1')"
   ]
  },
  {
   "cell_type": "code",
   "execution_count": 5,
   "id": "24ee7647",
   "metadata": {},
   "outputs": [
    {
     "name": "stdout",
     "output_type": "stream",
     "text": [
      "num1=10\n",
      "num2=20\n",
      "Add= 30\n"
     ]
    }
   ],
   "source": [
    "Num1= int(input('num1='))\n",
    "Num2= int(input('num2='))\n",
    "Add = Num1 + Num2\n",
    "print('Add=',Add)"
   ]
  },
  {
   "cell_type": "code",
   "execution_count": 2,
   "id": "5e439642",
   "metadata": {},
   "outputs": [
    {
     "name": "stdout",
     "output_type": "stream",
     "text": [
      "Enter the BMI Index: 34\n",
      "very over weight\n"
     ]
    }
   ],
   "source": [
    "BMI = int(input('Enter the BMI Index: '))\n",
    "if BMI <= 18.4 :\n",
    "    print('Under Weight')\n",
    "\n",
    "elif BMI <= 24.9 :\n",
    "    print('healthy')\n",
    "elif BMI <= 29.9:\n",
    "    print('over weight')\n",
    "else  :\n",
    "    print('very over weight')"
   ]
  },
  {
   "cell_type": "code",
   "execution_count": null,
   "id": "fc88d6fb",
   "metadata": {},
   "outputs": [],
   "source": []
  }
 ],
 "metadata": {
  "kernelspec": {
   "display_name": "Python 3 (ipykernel)",
   "language": "python",
   "name": "python3"
  },
  "language_info": {
   "codemirror_mode": {
    "name": "ipython",
    "version": 3
   },
   "file_extension": ".py",
   "mimetype": "text/x-python",
   "name": "python",
   "nbconvert_exporter": "python",
   "pygments_lexer": "ipython3",
   "version": "3.10.9"
  }
 },
 "nbformat": 4,
 "nbformat_minor": 5
}
