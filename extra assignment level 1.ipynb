{
 "cells": [
  {
   "cell_type": "code",
   "execution_count": 1,
   "id": "d3f26a9b",
   "metadata": {},
   "outputs": [
    {
     "name": "stdout",
     "output_type": "stream",
     "text": [
      "HOPE AI\n"
     ]
    }
   ],
   "source": [
    "#print statement\n",
    "print('HOPE AI')"
   ]
  },
  {
   "cell_type": "code",
   "execution_count": 2,
   "id": "da5bf037",
   "metadata": {},
   "outputs": [
    {
     "name": "stdout",
     "output_type": "stream",
     "text": [
      "Enter your institute name? : HOPE AI\n",
      "HOPE AI\n"
     ]
    }
   ],
   "source": [
    "#input\n",
    "institute_name = input(\"Enter your institute name? : \")\n",
    "print(institute_name)"
   ]
  },
  {
   "cell_type": "code",
   "execution_count": 4,
   "id": "fbe21932",
   "metadata": {},
   "outputs": [
    {
     "name": "stdout",
     "output_type": "stream",
     "text": [
      "Enter your name: Barath KR\n",
      "Enter your age: 27\n",
      "Enter your school name: ALG \n",
      "Enter your drgree: B.E Production Engg\n",
      "Barath KR 27 ALG  B.E Production Engg\n"
     ]
    }
   ],
   "source": [
    "#multiple input\n",
    "name= input(\"Enter your name: \")\n",
    "age= input(\"Enter your age: \")\n",
    "school = input(\"Enter your school name: \")\n",
    "degree = input(\"Enter your drgree: \")\n",
    "print(name,age,school,degree)"
   ]
  },
  {
   "cell_type": "code",
   "execution_count": 15,
   "id": "bffb071d",
   "metadata": {},
   "outputs": [
    {
     "name": "stdout",
     "output_type": "stream",
     "text": [
      "a= 43 b= 34 Add = 77\n"
     ]
    }
   ],
   "source": [
    "#add\n",
    "a = 43\n",
    "b = 34\n",
    "add = a+b\n",
    "print(\"a=\",a,\"b=\",b,\"Add =\",add)"
   ]
  },
  {
   "cell_type": "code",
   "execution_count": 16,
   "id": "f439d5b4",
   "metadata": {},
   "outputs": [
    {
     "name": "stdout",
     "output_type": "stream",
     "text": [
      "a= 43 b= 34 Sub = 9\n"
     ]
    }
   ],
   "source": [
    "#sub\n",
    "a = 43\n",
    "b = 34\n",
    "sub = a-b\n",
    "print(\"a=\",a,\"b=\",b,\"Sub =\",sub)"
   ]
  },
  {
   "cell_type": "code",
   "execution_count": 18,
   "id": "0eeb9d03",
   "metadata": {},
   "outputs": [
    {
     "name": "stdout",
     "output_type": "stream",
     "text": [
      "a= 63 b= 97 mul= 6111\n"
     ]
    }
   ],
   "source": [
    "#multiplication\n",
    "\n",
    "a=63\n",
    "b=97\n",
    "mul = a*b\n",
    "print(\"a=\",a,\"b=\",b,'mul=', mul)"
   ]
  },
  {
   "cell_type": "code",
   "execution_count": 19,
   "id": "de23486d",
   "metadata": {},
   "outputs": [
    {
     "name": "stdout",
     "output_type": "stream",
     "text": [
      "a= 76 b= 31 float division= 2.4516129032258065\n"
     ]
    }
   ],
   "source": [
    "#division use one / to get answer with decimals\n",
    "a = 76\n",
    "b = 31\n",
    "division = a/b\n",
    "print(\"a=\",a,\"b=\",b,'float division=', division)\n"
   ]
  },
  {
   "cell_type": "code",
   "execution_count": 21,
   "id": "4fa9c3e8",
   "metadata": {},
   "outputs": [
    {
     "name": "stdout",
     "output_type": "stream",
     "text": [
      "a= 76 b= 31 floor division= 2\n"
     ]
    }
   ],
   "source": [
    "#floor division use // to get answer without decimals\n",
    "a = 76\n",
    "b = 31\n",
    "division = a//b\n",
    "print(\"a=\",a,\"b=\",b,'floor division=', division)"
   ]
  },
  {
   "cell_type": "code",
   "execution_count": 35,
   "id": "cf8fdacf",
   "metadata": {},
   "outputs": [
    {
     "name": "stdout",
     "output_type": "stream",
     "text": [
      "a= 76 b= 31 modulo= 14\n"
     ]
    }
   ],
   "source": [
    "#Modulo use % to get remainder value\n",
    "a= 76\n",
    "b= 31\n",
    "Modulo = a%b\n",
    "print(\"a=\",a,\"b=\",b,'modulo=',Modulo)\n"
   ]
  },
  {
   "cell_type": "code",
   "execution_count": 40,
   "id": "e5451dc3",
   "metadata": {},
   "outputs": [
    {
     "name": "stdout",
     "output_type": "stream",
     "text": [
      "256\n"
     ]
    }
   ],
   "source": [
    "#power\n",
    "a=4\n",
    "b=4\n",
    "power= a**b\n",
    "print(power)"
   ]
  },
  {
   "cell_type": "code",
   "execution_count": null,
   "id": "a4e83213",
   "metadata": {},
   "outputs": [],
   "source": []
  }
 ],
 "metadata": {
  "kernelspec": {
   "display_name": "Python 3 (ipykernel)",
   "language": "python",
   "name": "python3"
  },
  "language_info": {
   "codemirror_mode": {
    "name": "ipython",
    "version": 3
   },
   "file_extension": ".py",
   "mimetype": "text/x-python",
   "name": "python",
   "nbconvert_exporter": "python",
   "pygments_lexer": "ipython3",
   "version": "3.10.9"
  }
 },
 "nbformat": 4,
 "nbformat_minor": 5
}
